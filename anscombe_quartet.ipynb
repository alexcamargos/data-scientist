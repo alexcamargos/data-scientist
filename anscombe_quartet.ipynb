{
 "cells": [
  {
   "cell_type": "markdown",
   "metadata": {},
   "source": [
    "# Quarteto de Anscombe (Anscombe’s quartet)\n",
    "\n",
    "Antes de realizar análises estatísticas inferenciais, é crucial dedicar tempo para uma compreensão profunda dos dados com os quais estamos lidando. Este processo começa com uma visualização eficaz dos dados, uma etapa crucial que fornece insights valiosos e facilita a identificação de padrões, tendências e anomalias. Visualizar os dados corretamente envolve a utilização de gráficos apropriados, como histogramas, gráficos de dispersão, diagramas de caixa e gráficos de barras, que ajudam a explorar a distribuição, a relação entre variáveis e a identificar comportamentos atípicos.\n",
    "\n",
    "Na estatística, as visualizações gráficas desempenham um papel crucial, pois são ferramentas excepcionais para revelar tendências, características ou peculiaridades nos dados, que muitas vezes não são imediatamente evidentes através de métodos puramente numéricos. Em 1973, o estatístico [Francis Anscombe](https://en.wikipedia.org/wiki/Frank_Anscombe) ilustrou de maneira notável essa importância com a criação de um conjunto de dados muito especial. Este conjunto, conhecido como o [Quarteto de Anscombe](https://en.wikipedia.org/wiki/Anscombe%27s_quartet), é composto por quatro grupos distintos de onze pontos cada, formatados em pares (x, y).\n",
    "\n",
    "A singularidade e importância do Quarteto de Anscombe residem no fato de que, embora cada um dos quatro grupos de dados compartilhe propriedades estatísticas quase idênticas, como médias e variâncias similares e linhas de regressão linear muito parecidas, suas representações gráficas desvendam padrões marcadamente distintos. Esta discrepância destaca um conceito central: a visualização gráfica de dados pode revelar aspectos críticos que as estatísticas descritivas por si só podem não captar. Francis Anscombe, ao desenvolver este conjunto de dados, tinha como objetivo desafiar a noção prevalecente na época entre muitos estatísticos de que \"os cálculos numéricos são precisos, enquanto os gráficos são apenas representações aproximadas\".\n",
    "\n",
    "O Quarteto de Anscombe ilustra de forma eloquente que, a visualização gráfica é indispensável na análise de dados, transcendendo o papel de simples ferramenta de aproximação para se tornar um elemento crucial na exploração e compreensão de conjuntos de dados. Sem a visualização, características únicas e insights valiosos podem ser perdidos, resultando em interpretações que são, no melhor dos casos, incompletas, e no pior, enganosas.\n",
    "\n",
    "Portanto, a análise estatística inferencial exige uma compreensão aprofundada dos dados, um processo que inicia eficazmente com a visualização gráfica. Esta etapa, longe de ser superficial, é fundamental para revelar tendências, características e anomalias nos dados que podem não ser perceptíveis através de análises numéricas isoladas.\n",
    "\n",
    "## Dataset Anscombe’s quartet\n",
    "\n",
    "A biblioteca de visualização [Seaborn](http://seaborn.pydata.org/) inclui, entre seus conjuntos de dados de exemplo, o Quarteto de Anscombe. Para acessá-lo, basta usar a função `load_dataset(\"anscombe\")`, e a biblioteca automaticamente fará o download do dataset a partir do seu repositório de exemplos.\n"
   ]
  },
  {
   "cell_type": "code",
   "execution_count": 1,
   "metadata": {},
   "outputs": [],
   "source": [
    "# Mensagem de erro para o caso de um biblioteca não estar instalada.\n",
    "ERROR_MENSAGEM = \"A biblioteca {module_name} não está instalada.\\nPor favor, instale-a usando 'pip install {module_name}' antes de executar este notebook.\""
   ]
  },
  {
   "cell_type": "code",
   "execution_count": 2,
   "metadata": {},
   "outputs": [],
   "source": [
    "# Import Pandas: a data analysis library.\n",
    "try:\n",
    "    import pandas as pd\n",
    "except ImportError as error:\n",
    "    print(ERROR_MENSAGEM.format(module_name=error.name))"
   ]
  },
  {
   "cell_type": "code",
   "execution_count": 3,
   "metadata": {},
   "outputs": [],
   "source": [
    "# Import the Ordinary Least Squares (OLS) function from the statsmodels library.\n",
    "try:\n",
    "    import statsmodels.api as sm\n",
    "except ImportError as error:\n",
    "    print(ERROR_MENSAGEM.format(module_name=error.name))"
   ]
  },
  {
   "cell_type": "code",
   "execution_count": 4,
   "metadata": {},
   "outputs": [],
   "source": [
    "# Import the Breusch-Pagan test function from the statsmodels library.\n",
    "try:\n",
    "    from statsmodels.stats.diagnostic import het_breuschpagan\n",
    "except ImportError as error:\n",
    "    print(ERROR_MENSAGEM.format(module_name=error.name))"
   ]
  },
  {
   "cell_type": "code",
   "execution_count": 5,
   "metadata": {},
   "outputs": [],
   "source": [
    "# Import Matplotlib: a Python 2D plotting library.\n",
    "try:\n",
    "    import matplotlib.pyplot as plt\n",
    "except ImportError as error:\n",
    "    print(ERROR_MENSAGEM.format(module_name=error.name))"
   ]
  },
  {
   "cell_type": "code",
   "execution_count": 6,
   "metadata": {},
   "outputs": [],
   "source": [
    "# Import Seaborn: a Python data visualization library based on matplotlib.\n",
    "try:\n",
    "    import seaborn as sns\n",
    "except ImportError as error:\n",
    "    print(ERROR_MENSAGEM.format(module_name=error.name))"
   ]
  },
  {
   "cell_type": "code",
   "execution_count": 7,
   "metadata": {},
   "outputs": [],
   "source": [
    "%matplotlib inline"
   ]
  },
  {
   "cell_type": "code",
   "execution_count": 8,
   "metadata": {},
   "outputs": [],
   "source": [
    "# Set seaborn style.\n",
    "sns.set(style=\"ticks\",\n",
    "        color_codes=True,\n",
    "        font_scale=1.1,\n",
    "        rc={'figure.figsize': (10, 6)},\n",
    "        palette=\"deep\")"
   ]
  },
  {
   "cell_type": "code",
   "execution_count": 9,
   "metadata": {},
   "outputs": [
    {
     "data": {
      "text/plain": [
       "(44, 3)"
      ]
     },
     "execution_count": 9,
     "metadata": {},
     "output_type": "execute_result"
    }
   ],
   "source": [
    "# Load the example dataset for Anscombe's quartet.\n",
    "anscombe = sns.load_dataset(\"anscombe\")\n",
    "anscombe.shape"
   ]
  },
  {
   "cell_type": "code",
   "execution_count": 10,
   "metadata": {},
   "outputs": [
    {
     "data": {
      "text/plain": [
       "dataset\n",
       "I      11\n",
       "II     11\n",
       "III    11\n",
       "IV     11\n",
       "dtype: int64"
      ]
     },
     "execution_count": 10,
     "metadata": {},
     "output_type": "execute_result"
    }
   ],
   "source": [
    "# The size of the dataset.\n",
    "anscombe.groupby('dataset').size()"
   ]
  },
  {
   "cell_type": "markdown",
   "metadata": {},
   "source": [
    "## Estatísticas Descritivas\n",
    "\n",
    "A característica mais notável deste conjunto de dados reside em apresentar estatísticas descritivas que produzem resultados idênticos.\n"
   ]
  },
  {
   "cell_type": "code",
   "execution_count": 11,
   "metadata": {},
   "outputs": [
    {
     "data": {
      "text/html": [
       "<div>\n",
       "<style scoped>\n",
       "    .dataframe tbody tr th:only-of-type {\n",
       "        vertical-align: middle;\n",
       "    }\n",
       "\n",
       "    .dataframe tbody tr th {\n",
       "        vertical-align: top;\n",
       "    }\n",
       "\n",
       "    .dataframe thead tr th {\n",
       "        text-align: left;\n",
       "    }\n",
       "\n",
       "    .dataframe thead tr:last-of-type th {\n",
       "        text-align: right;\n",
       "    }\n",
       "</style>\n",
       "<table border=\"1\" class=\"dataframe\">\n",
       "  <thead>\n",
       "    <tr>\n",
       "      <th></th>\n",
       "      <th colspan=\"8\" halign=\"left\">x</th>\n",
       "      <th colspan=\"8\" halign=\"left\">y</th>\n",
       "    </tr>\n",
       "    <tr>\n",
       "      <th></th>\n",
       "      <th>count</th>\n",
       "      <th>mean</th>\n",
       "      <th>std</th>\n",
       "      <th>min</th>\n",
       "      <th>25%</th>\n",
       "      <th>50%</th>\n",
       "      <th>75%</th>\n",
       "      <th>max</th>\n",
       "      <th>count</th>\n",
       "      <th>mean</th>\n",
       "      <th>std</th>\n",
       "      <th>min</th>\n",
       "      <th>25%</th>\n",
       "      <th>50%</th>\n",
       "      <th>75%</th>\n",
       "      <th>max</th>\n",
       "    </tr>\n",
       "    <tr>\n",
       "      <th>dataset</th>\n",
       "      <th></th>\n",
       "      <th></th>\n",
       "      <th></th>\n",
       "      <th></th>\n",
       "      <th></th>\n",
       "      <th></th>\n",
       "      <th></th>\n",
       "      <th></th>\n",
       "      <th></th>\n",
       "      <th></th>\n",
       "      <th></th>\n",
       "      <th></th>\n",
       "      <th></th>\n",
       "      <th></th>\n",
       "      <th></th>\n",
       "      <th></th>\n",
       "    </tr>\n",
       "  </thead>\n",
       "  <tbody>\n",
       "    <tr>\n",
       "      <th>I</th>\n",
       "      <td>11.0</td>\n",
       "      <td>9.0</td>\n",
       "      <td>3.316625</td>\n",
       "      <td>4.0</td>\n",
       "      <td>6.5</td>\n",
       "      <td>9.0</td>\n",
       "      <td>11.5</td>\n",
       "      <td>14.0</td>\n",
       "      <td>11.0</td>\n",
       "      <td>7.500909</td>\n",
       "      <td>2.031568</td>\n",
       "      <td>4.26</td>\n",
       "      <td>6.315</td>\n",
       "      <td>7.58</td>\n",
       "      <td>8.57</td>\n",
       "      <td>10.84</td>\n",
       "    </tr>\n",
       "    <tr>\n",
       "      <th>II</th>\n",
       "      <td>11.0</td>\n",
       "      <td>9.0</td>\n",
       "      <td>3.316625</td>\n",
       "      <td>4.0</td>\n",
       "      <td>6.5</td>\n",
       "      <td>9.0</td>\n",
       "      <td>11.5</td>\n",
       "      <td>14.0</td>\n",
       "      <td>11.0</td>\n",
       "      <td>7.500909</td>\n",
       "      <td>2.031657</td>\n",
       "      <td>3.10</td>\n",
       "      <td>6.695</td>\n",
       "      <td>8.14</td>\n",
       "      <td>8.95</td>\n",
       "      <td>9.26</td>\n",
       "    </tr>\n",
       "    <tr>\n",
       "      <th>III</th>\n",
       "      <td>11.0</td>\n",
       "      <td>9.0</td>\n",
       "      <td>3.316625</td>\n",
       "      <td>4.0</td>\n",
       "      <td>6.5</td>\n",
       "      <td>9.0</td>\n",
       "      <td>11.5</td>\n",
       "      <td>14.0</td>\n",
       "      <td>11.0</td>\n",
       "      <td>7.500000</td>\n",
       "      <td>2.030424</td>\n",
       "      <td>5.39</td>\n",
       "      <td>6.250</td>\n",
       "      <td>7.11</td>\n",
       "      <td>7.98</td>\n",
       "      <td>12.74</td>\n",
       "    </tr>\n",
       "    <tr>\n",
       "      <th>IV</th>\n",
       "      <td>11.0</td>\n",
       "      <td>9.0</td>\n",
       "      <td>3.316625</td>\n",
       "      <td>8.0</td>\n",
       "      <td>8.0</td>\n",
       "      <td>8.0</td>\n",
       "      <td>8.0</td>\n",
       "      <td>19.0</td>\n",
       "      <td>11.0</td>\n",
       "      <td>7.500909</td>\n",
       "      <td>2.030579</td>\n",
       "      <td>5.25</td>\n",
       "      <td>6.170</td>\n",
       "      <td>7.04</td>\n",
       "      <td>8.19</td>\n",
       "      <td>12.50</td>\n",
       "    </tr>\n",
       "  </tbody>\n",
       "</table>\n",
       "</div>"
      ],
      "text/plain": [
       "            x                                               y            \\\n",
       "        count mean       std  min  25%  50%   75%   max count      mean   \n",
       "dataset                                                                   \n",
       "I        11.0  9.0  3.316625  4.0  6.5  9.0  11.5  14.0  11.0  7.500909   \n",
       "II       11.0  9.0  3.316625  4.0  6.5  9.0  11.5  14.0  11.0  7.500909   \n",
       "III      11.0  9.0  3.316625  4.0  6.5  9.0  11.5  14.0  11.0  7.500000   \n",
       "IV       11.0  9.0  3.316625  8.0  8.0  8.0   8.0  19.0  11.0  7.500909   \n",
       "\n",
       "                                                   \n",
       "              std   min    25%   50%   75%    max  \n",
       "dataset                                            \n",
       "I        2.031568  4.26  6.315  7.58  8.57  10.84  \n",
       "II       2.031657  3.10  6.695  8.14  8.95   9.26  \n",
       "III      2.030424  5.39  6.250  7.11  7.98  12.74  \n",
       "IV       2.030579  5.25  6.170  7.04  8.19  12.50  "
      ]
     },
     "execution_count": 11,
     "metadata": {},
     "output_type": "execute_result"
    }
   ],
   "source": [
    "# Summarize the dataset applying a groupby operation.\n",
    "anscombe.groupby(\"dataset\").describe()"
   ]
  },
  {
   "cell_type": "markdown",
   "metadata": {},
   "source": [
    "Além disso, é interessante notar que a correlação é consistentemente a mesma, exatamente 0.8163662, em todos os quatro conjuntos de dados.\n"
   ]
  },
  {
   "cell_type": "code",
   "execution_count": 12,
   "metadata": {},
   "outputs": [
    {
     "data": {
      "text/html": [
       "<div>\n",
       "<style scoped>\n",
       "    .dataframe tbody tr th:only-of-type {\n",
       "        vertical-align: middle;\n",
       "    }\n",
       "\n",
       "    .dataframe tbody tr th {\n",
       "        vertical-align: top;\n",
       "    }\n",
       "\n",
       "    .dataframe thead th {\n",
       "        text-align: right;\n",
       "    }\n",
       "</style>\n",
       "<table border=\"1\" class=\"dataframe\">\n",
       "  <thead>\n",
       "    <tr style=\"text-align: right;\">\n",
       "      <th></th>\n",
       "      <th></th>\n",
       "      <th>x</th>\n",
       "      <th>y</th>\n",
       "    </tr>\n",
       "    <tr>\n",
       "      <th>dataset</th>\n",
       "      <th></th>\n",
       "      <th></th>\n",
       "      <th></th>\n",
       "    </tr>\n",
       "  </thead>\n",
       "  <tbody>\n",
       "    <tr>\n",
       "      <th rowspan=\"2\" valign=\"top\">I</th>\n",
       "      <th>x</th>\n",
       "      <td>1.000000</td>\n",
       "      <td>0.816421</td>\n",
       "    </tr>\n",
       "    <tr>\n",
       "      <th>y</th>\n",
       "      <td>0.816421</td>\n",
       "      <td>1.000000</td>\n",
       "    </tr>\n",
       "    <tr>\n",
       "      <th rowspan=\"2\" valign=\"top\">II</th>\n",
       "      <th>x</th>\n",
       "      <td>1.000000</td>\n",
       "      <td>0.816237</td>\n",
       "    </tr>\n",
       "    <tr>\n",
       "      <th>y</th>\n",
       "      <td>0.816237</td>\n",
       "      <td>1.000000</td>\n",
       "    </tr>\n",
       "    <tr>\n",
       "      <th rowspan=\"2\" valign=\"top\">III</th>\n",
       "      <th>x</th>\n",
       "      <td>1.000000</td>\n",
       "      <td>0.816287</td>\n",
       "    </tr>\n",
       "    <tr>\n",
       "      <th>y</th>\n",
       "      <td>0.816287</td>\n",
       "      <td>1.000000</td>\n",
       "    </tr>\n",
       "    <tr>\n",
       "      <th rowspan=\"2\" valign=\"top\">IV</th>\n",
       "      <th>x</th>\n",
       "      <td>1.000000</td>\n",
       "      <td>0.816521</td>\n",
       "    </tr>\n",
       "    <tr>\n",
       "      <th>y</th>\n",
       "      <td>0.816521</td>\n",
       "      <td>1.000000</td>\n",
       "    </tr>\n",
       "  </tbody>\n",
       "</table>\n",
       "</div>"
      ],
      "text/plain": [
       "                  x         y\n",
       "dataset                      \n",
       "I       x  1.000000  0.816421\n",
       "        y  0.816421  1.000000\n",
       "II      x  1.000000  0.816237\n",
       "        y  0.816237  1.000000\n",
       "III     x  1.000000  0.816287\n",
       "        y  0.816287  1.000000\n",
       "IV      x  1.000000  0.816521\n",
       "        y  0.816521  1.000000"
      ]
     },
     "execution_count": 12,
     "metadata": {},
     "output_type": "execute_result"
    }
   ],
   "source": [
    "# Calculate the correlation across the dataset.\n",
    "anscombe.groupby(\"dataset\").corr()"
   ]
  },
  {
   "cell_type": "code",
   "execution_count": 13,
   "metadata": {},
   "outputs": [
    {
     "data": {
      "text/html": [
       "<div>\n",
       "<style scoped>\n",
       "    .dataframe tbody tr th:only-of-type {\n",
       "        vertical-align: middle;\n",
       "    }\n",
       "\n",
       "    .dataframe tbody tr th {\n",
       "        vertical-align: top;\n",
       "    }\n",
       "\n",
       "    .dataframe thead th {\n",
       "        text-align: right;\n",
       "    }\n",
       "</style>\n",
       "<table border=\"1\" class=\"dataframe\">\n",
       "  <thead>\n",
       "    <tr style=\"text-align: right;\">\n",
       "      <th></th>\n",
       "      <th>x</th>\n",
       "      <th>y</th>\n",
       "    </tr>\n",
       "  </thead>\n",
       "  <tbody>\n",
       "    <tr>\n",
       "      <th>count</th>\n",
       "      <td>44.000000</td>\n",
       "      <td>44.000000</td>\n",
       "    </tr>\n",
       "    <tr>\n",
       "      <th>mean</th>\n",
       "      <td>9.000000</td>\n",
       "      <td>7.500682</td>\n",
       "    </tr>\n",
       "    <tr>\n",
       "      <th>std</th>\n",
       "      <td>3.198837</td>\n",
       "      <td>1.958925</td>\n",
       "    </tr>\n",
       "    <tr>\n",
       "      <th>min</th>\n",
       "      <td>4.000000</td>\n",
       "      <td>3.100000</td>\n",
       "    </tr>\n",
       "    <tr>\n",
       "      <th>25%</th>\n",
       "      <td>7.000000</td>\n",
       "      <td>6.117500</td>\n",
       "    </tr>\n",
       "    <tr>\n",
       "      <th>50%</th>\n",
       "      <td>8.000000</td>\n",
       "      <td>7.520000</td>\n",
       "    </tr>\n",
       "    <tr>\n",
       "      <th>75%</th>\n",
       "      <td>11.000000</td>\n",
       "      <td>8.747500</td>\n",
       "    </tr>\n",
       "    <tr>\n",
       "      <th>max</th>\n",
       "      <td>19.000000</td>\n",
       "      <td>12.740000</td>\n",
       "    </tr>\n",
       "  </tbody>\n",
       "</table>\n",
       "</div>"
      ],
      "text/plain": [
       "               x          y\n",
       "count  44.000000  44.000000\n",
       "mean    9.000000   7.500682\n",
       "std     3.198837   1.958925\n",
       "min     4.000000   3.100000\n",
       "25%     7.000000   6.117500\n",
       "50%     8.000000   7.520000\n",
       "75%    11.000000   8.747500\n",
       "max    19.000000  12.740000"
      ]
     },
     "execution_count": 13,
     "metadata": {},
     "output_type": "execute_result"
    }
   ],
   "source": [
    "# Summary statistics for the dataset.\n",
    "anscombe.describe()"
   ]
  },
  {
   "cell_type": "markdown",
   "metadata": {},
   "source": [
    "## Visualizações\n",
    "\n",
    "Agora, vamos destacar as notáveis diferenças existentes entre os conjuntos de dados.\n"
   ]
  },
  {
   "cell_type": "code",
   "execution_count": 14,
   "metadata": {},
   "outputs": [
    {
     "data": {
      "text/plain": [
       "<Axes: xlabel='x', ylabel='y'>"
      ]
     },
     "execution_count": 14,
     "metadata": {},
     "output_type": "execute_result"
    },
    {
     "data": {
      "image/png": "[encoded data removed]",
      "text/plain": [
       "<Figure size 1000x600 with 1 Axes>"
      ]
     },
     "metadata": {},
     "output_type": "display_data"
    }
   ],
   "source": [
    "# Visualize the dataset.\n",
    "sns.scatterplot(data=anscombe,\n",
    "                x=\"x\", y=\"y\",\n",
    "                hue=\"dataset\",\n",
    "                style=\"dataset\",\n",
    "                s=100)"
   ]
  },
  {
   "cell_type": "code",
   "execution_count": 15,
   "metadata": {},
   "outputs": [
    {
     "data": {
      "text/plain": [
       "<seaborn.axisgrid.FacetGrid at 0x1c1f3909160>"
      ]
     },
     "execution_count": 15,
     "metadata": {},
     "output_type": "execute_result"
    },
    {
     "data": {
      "image/png": "[encoded data removed]",
      "text/plain": [
       "<Figure size 1000x1000 with 4 Axes>"
      ]
     },
     "metadata": {},
     "output_type": "display_data"
    }
   ],
   "source": [
    "# A linear model plot of the dataset.\n",
    "sns.lmplot(data=anscombe,\n",
    "           x=\"x\", y=\"y\",\n",
    "           col=\"dataset\",\n",
    "           hue=\"dataset\",\n",
    "           col_wrap=2)"
   ]
  },
  {
   "cell_type": "markdown",
   "metadata": {},
   "source": [
    "-   O primeiro gráfico de dispersão, localizado no canto superior esquerdo, aparenta representar uma relação linear simples, indicando que as duas variáveis estão correlacionadas e que y pode ser modelado como uma variável gaussiana, cuja média depende linearmente de x.\n",
    "-   O segundo gráfico, localizado no canto superior direito, não apresenta uma distribuição normal. Apesar de haver uma relação clara entre as duas variáveis, esta não é linear, tornando não pertinente o coeficiente de correlação de Pearson. Uma abordagem de regressão que inclua um termo quadrático ($x^2$) seria mais adequada para este conjunto de dados.\n",
    "-   No terceiro gráfico, localizado no canto inferior esquerdo, observa-se uma distribuição linear, mas com a necessidade de uma linha de regressão distinta, possivelmente uma regressão robusta. Esta necessidade é devida à presença de um outlier que exerce influência significativa, suficiente para reduzir o coeficiente de correlação de 1 para 0.816.\n",
    "-   Finalmente, o quarto gráfico, situado no canto inferior direito, demonstra um caso em que um único ponto de alta influência é suficiente para gerar um elevado coeficiente de correlação, apesar dos demais pontos de dados não sugerirem qualquer relação entre as variáveis. Este exemplo ressalta como um outlier pode distorcer significativamente a análise estatística, enfatizando a importância de uma avaliação cuidadosa dos dados.\n"
   ]
  },
  {
   "cell_type": "markdown",
   "metadata": {},
   "source": [
    "## Modelos de Regressão\n",
    "\n",
    "O aspecto mais interessante é que, ao aplicarmos uma regressão linear aos quatro conjuntos, obtemos os mesmos valores de _p_, coeficientes, _R²_ e _R² ajustado_ para todos eles. Observe os detalhes na tabela a seguir:\n"
   ]
  },
  {
   "cell_type": "code",
   "execution_count": 16,
   "metadata": {},
   "outputs": [],
   "source": [
    "# A linear regression model for each dataset.\n",
    "models = [sm.OLS(anscombe.query(\"dataset == @dataset\")[\"y\"],\n",
    "                 sm.add_constant(anscombe.query(\"dataset == @dataset\")[\"x\"])).fit() for dataset in anscombe[\"dataset\"].unique()]"
   ]
  },
  {
   "cell_type": "code",
   "execution_count": 17,
   "metadata": {},
   "outputs": [],
   "source": [
    "# Summary statistics for each model.\n",
    "models_summary = pd.DataFrame(columns=[\"Conjunto\",\n",
    "                                       \"estimate\",\n",
    "                                       \"std.error\",\n",
    "                                       \"p.value.x\",\n",
    "                                       \"conf.low\",\n",
    "                                       \"conf.high\",\n",
    "                                       \"r.squared\",\n",
    "                                       \"adj.r.squared\"])"
   ]
  },
  {
   "cell_type": "code",
   "execution_count": 18,
   "metadata": {},
   "outputs": [],
   "source": [
    "# Populate the summary statistics.\n",
    "for i, result in enumerate(models, start=1):\n",
    "    summary = {\"Conjunto\": i,\n",
    "               \"estimate\": result.params['x'],\n",
    "               \"std.error\": result.bse['x'],\n",
    "               \"p.value.x\": result.pvalues['x'],\n",
    "               \"conf.low\": result.conf_int().loc['x', 0],\n",
    "               \"conf.high\": result.conf_int().loc['x', 1],\n",
    "               \"r.squared\": result.rsquared,\n",
    "               \"adj.r.squared\": result.rsquared_adj}\n",
    "    models_summary.loc[i] = summary"
   ]
  },
  {
   "cell_type": "code",
   "execution_count": 19,
   "metadata": {},
   "outputs": [
    {
     "name": "stdout",
     "output_type": "stream",
     "text": [
      "Modelo de Regressão Linear do Quarteto de Anscombe\n"
     ]
    },
    {
     "data": {
      "text/html": [
       "<div>\n",
       "<style scoped>\n",
       "    .dataframe tbody tr th:only-of-type {\n",
       "        vertical-align: middle;\n",
       "    }\n",
       "\n",
       "    .dataframe tbody tr th {\n",
       "        vertical-align: top;\n",
       "    }\n",
       "\n",
       "    .dataframe thead th {\n",
       "        text-align: right;\n",
       "    }\n",
       "</style>\n",
       "<table border=\"1\" class=\"dataframe\">\n",
       "  <thead>\n",
       "    <tr style=\"text-align: right;\">\n",
       "      <th></th>\n",
       "      <th>Conjunto</th>\n",
       "      <th>estimate</th>\n",
       "      <th>std.error</th>\n",
       "      <th>p.value.x</th>\n",
       "      <th>conf.low</th>\n",
       "      <th>conf.high</th>\n",
       "      <th>r.squared</th>\n",
       "      <th>adj.r.squared</th>\n",
       "    </tr>\n",
       "  </thead>\n",
       "  <tbody>\n",
       "    <tr>\n",
       "      <th>1</th>\n",
       "      <td>1</td>\n",
       "      <td>0.500091</td>\n",
       "      <td>0.117906</td>\n",
       "      <td>0.002170</td>\n",
       "      <td>0.233370</td>\n",
       "      <td>0.766812</td>\n",
       "      <td>0.666542</td>\n",
       "      <td>0.629492</td>\n",
       "    </tr>\n",
       "    <tr>\n",
       "      <th>2</th>\n",
       "      <td>2</td>\n",
       "      <td>0.500000</td>\n",
       "      <td>0.117964</td>\n",
       "      <td>0.002179</td>\n",
       "      <td>0.233147</td>\n",
       "      <td>0.766853</td>\n",
       "      <td>0.666242</td>\n",
       "      <td>0.629158</td>\n",
       "    </tr>\n",
       "    <tr>\n",
       "      <th>3</th>\n",
       "      <td>3</td>\n",
       "      <td>0.499727</td>\n",
       "      <td>0.117878</td>\n",
       "      <td>0.002176</td>\n",
       "      <td>0.233069</td>\n",
       "      <td>0.766385</td>\n",
       "      <td>0.666324</td>\n",
       "      <td>0.629249</td>\n",
       "    </tr>\n",
       "    <tr>\n",
       "      <th>4</th>\n",
       "      <td>4</td>\n",
       "      <td>0.499909</td>\n",
       "      <td>0.117819</td>\n",
       "      <td>0.002165</td>\n",
       "      <td>0.233384</td>\n",
       "      <td>0.766434</td>\n",
       "      <td>0.666707</td>\n",
       "      <td>0.629675</td>\n",
       "    </tr>\n",
       "  </tbody>\n",
       "</table>\n",
       "</div>"
      ],
      "text/plain": [
       "   Conjunto  estimate  std.error  p.value.x  conf.low  conf.high  r.squared  \\\n",
       "1         1  0.500091   0.117906   0.002170  0.233370   0.766812   0.666542   \n",
       "2         2  0.500000   0.117964   0.002179  0.233147   0.766853   0.666242   \n",
       "3         3  0.499727   0.117878   0.002176  0.233069   0.766385   0.666324   \n",
       "4         4  0.499909   0.117819   0.002165  0.233384   0.766434   0.666707   \n",
       "\n",
       "   adj.r.squared  \n",
       "1       0.629492  \n",
       "2       0.629158  \n",
       "3       0.629249  \n",
       "4       0.629675  "
      ]
     },
     "execution_count": 19,
     "metadata": {},
     "output_type": "execute_result"
    }
   ],
   "source": [
    "print(\"Modelo de Regressão Linear do Quarteto de Anscombe\")\n",
    "models_summary"
   ]
  },
  {
   "cell_type": "markdown",
   "metadata": {},
   "source": [
    "Uma abordagem eficaz para distinguir os quatro conjuntos de dados de Anscombe em uma análise de regressão linear é examinando seus resíduos, conforme ilustrado no gráfico a seguir. Observa-se que, especificamente no gráfico do canto superior direito, os resíduos não apresentam padrões ou características discerníveis, destacando-se dos demais conjuntos.\n"
   ]
  },
  {
   "cell_type": "code",
   "execution_count": 20,
   "metadata": {},
   "outputs": [
    {
     "data": {
      "image/png": "[encoded data removed]",
      "text/plain": [
       "<Figure size 1000x800 with 4 Axes>"
      ]
     },
     "metadata": {},
     "output_type": "display_data"
    }
   ],
   "source": [
    "fig, axs = plt.subplots(nrows=2,\n",
    "                        ncols=2,\n",
    "                        figsize=(10, 8),\n",
    "                        sharex=True,\n",
    "                        sharey=True)\n",
    "axs = axs.flatten()\n",
    "\n",
    "for i, model in enumerate(models):\n",
    "    sns.histplot(model.resid,\n",
    "                 ax=axs[i],\n",
    "                 kde=True,\n",
    "                 bins=10,\n",
    "                 color=\"darkblue\",\n",
    "                 stat=\"density\",\n",
    "                 alpha=0.5)\n",
    "    axs[i].set_title(f\"Conjunto {i+1}\")\n",
    "    axs[i].set_xlabel(\"\")\n",
    "    axs[i].set_ylabel(\"\")"
   ]
  },
  {
   "cell_type": "markdown",
   "metadata": {},
   "source": [
    "Inclusive, ao aplicar o teste studentizado de Breusch-Pagan, todos os modelos não conseguem rejeitar a hipótese nula de que \"a variância dos resíduos é constante.\" Este resultado pode ser atribuído, em grande parte, ao tamanho reduzido da amostra (n=11) em cada um dos quatro conjuntos de dados, limitação que afeta a robustez do teste.\n"
   ]
  },
  {
   "cell_type": "code",
   "execution_count": 21,
   "metadata": {},
   "outputs": [],
   "source": [
    "# Breusch-Pagan test for heteroskedasticity.\n",
    "breusch_pagan_results = [het_breuschpagan(\n",
    "    model.resid, model.model.exog) for model in models]"
   ]
  },
  {
   "cell_type": "code",
   "execution_count": 22,
   "metadata": {},
   "outputs": [
    {
     "name": "stdout",
     "output_type": "stream",
     "text": [
      "Análise dos Resultados do Teste de Breusch-Pagan para Heterocedasticida\n",
      "\n",
      "Conjunto 1\n",
      "LM Statistic: 0.6553075561484165\n",
      "LM-Test p-value: 0.4182214568018924\n",
      "F-Statistic: 0.570125021826155\n",
      "F-Test p-value: 0.46950658303498966\n",
      "\n",
      "Conjunto 2\n",
      "LM Statistic: 2.4424906541753444e-15\n",
      "LM-Test p-value: 0.9999999605672998\n",
      "F-Statistic: 1.9789768809423956e-15\n",
      "F-Test p-value: 0.9999999653069757\n",
      "\n",
      "Conjunto 3\n",
      "LM Statistic: 2.7234169729360658\n",
      "LM-Test p-value: 0.09888612104791304\n",
      "F-Statistic: 2.9614579683760676\n",
      "F-Test p-value: 0.1193791006601893\n",
      "\n",
      "Conjunto 4\n",
      "LM Statistic: 1.182091037067803\n",
      "LM-Test p-value: 0.2769307127739395\n",
      "F-Statistic: 1.0836135651468557\n",
      "F-Test p-value: 0.32504592762358736\n",
      "\n"
     ]
    }
   ],
   "source": [
    "print('Análise dos Resultados do Teste de Breusch-Pagan para Heterocedasticida\\n')\n",
    "for i, result in enumerate(breusch_pagan_results):\n",
    "    print(f\"Conjunto {i + 1}\")\n",
    "    print(f\"LM Statistic: {result[0]}\")\n",
    "    print(f\"LM-Test p-value: {result[1]}\")\n",
    "    print(f\"F-Statistic: {result[2]}\")\n",
    "    print(f\"F-Test p-value: {result[3]}\\n\")"
   ]
  },
  {
   "cell_type": "markdown",
   "metadata": {},
   "source": [
    "## Comentários Finais\n",
    "\n",
    "O Quarteto de Anscombe, introduzido por Francis Anscombe em 1973, serve como uma demonstração instrutiva e enfática sobre a importância crucial das visualizações na análise de dados. Este conjunto, composto por quatro diferentes grupos de dados, sublinha a mensagem de que a inspeção gráfica dos dados deve preceder qualquer forma de análise estatística. O quarteto é particularmente revelador ao evidenciar situações nas quais as propriedades estatísticas básicas, como média, variância e coeficiente de correlação, são insuficientes para capturar a essência dos dados. Cada um dos quatro conjuntos, apesar de compartilhar quase as mesmas estatísticas descritivas, exibe comportamentos distintos quando representados graficamente. Isso ilustra vividamente que a dependência exclusiva em estatísticas resumidas pode ser enganosa, destacando assim a necessidade de uma análise exploratória de dados mais profunda e visualmente orientada para uma compreensão integral dos dados em análise.\n"
   ]
  },
  {
   "cell_type": "markdown",
   "metadata": {},
   "source": [
    "### Informações do ambiente\n"
   ]
  },
  {
   "cell_type": "code",
   "execution_count": 23,
   "metadata": {},
   "outputs": [
    {
     "name": "stdout",
     "output_type": "stream",
     "text": [
      "Python version: 3.12.0 (tags/v3.12.0:0fb18b0, Oct  2 2023, 13:03:39) [MSC v.1935 64 bit (AMD64)]\n",
      "Pandas version: 2.1.3\n",
      "Matplotlib version: 3.8.2\n",
      "Seaborn version: 0.13.0\n",
      "Statsmodels version: 0.14.0\n"
     ]
    }
   ],
   "source": [
    "# Python version.\n",
    "import sys\n",
    "print(f\"Python version: {sys.version}\")\n",
    "# Pandas version.\n",
    "print(f\"Pandas version: {pd.__version__}\")\n",
    "# Matplotlib version.\n",
    "print(f\"Matplotlib version: {plt.matplotlib.__version__}\")\n",
    "# Seaborn version.\n",
    "print(f\"Seaborn version: {sns.__version__}\")\n",
    "# Statsmodels version.\n",
    "print(f\"Statsmodels version: {sm.__version__}\")"
   ]
  }
 ],
 "metadata": {
  "kernelspec": {
   "display_name": ".venv",
   "language": "python",
   "name": "python3"
  },
  "language_info": {
   "codemirror_mode": {
    "name": "ipython",
    "version": 3
   },
   "file_extension": ".py",
   "mimetype": "text/x-python",
   "name": "python",
   "nbconvert_exporter": "python",
   "pygments_lexer": "ipython3",
   "version": "3.12.0"
  }
 },
 "nbformat": 4,
 "nbformat_minor": 2
}
